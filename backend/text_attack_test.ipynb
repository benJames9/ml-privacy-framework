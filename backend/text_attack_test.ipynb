{
 "cells": [
  {
   "cell_type": "code",
   "execution_count": 3,
   "id": "24452ecb-87ae-4497-a960-5f18eac0dce0",
   "metadata": {},
   "outputs": [],
   "source": [
    "from BreachingAdapter import BreachingAdapter\n",
    "from common import AttackParameters, WorkerCommunication\n",
    "import uuid\n",
    "from attack_worker import attack_worker\n"
   ]
  },
  {
   "cell_type": "code",
   "execution_count": 4,
   "id": "8603ee5e",
   "metadata": {},
   "outputs": [],
   "source": [
    "pars = AttackParameters(\n",
    "    modality=\"text\",\n",
    "    model='transformer3',\n",
    "    attack=\"TAG\",\n",
    "    datasetStructure='text',\n",
    "    # csvPath='~/data/images',\n",
    "    # datasetSize=350,\n",
    "    # numClasses=7,\n",
    "    batchSize=1,\n",
    "    numRestarts=1,\n",
    "    stepSize=0.1,\n",
    "    maxIterations=100,\n",
    "    callbackInterval=10,\n",
    "    ptFilePath=None,\n",
    "    # zipFilePath='../small_foldered_set.zip',\n",
    "    budget=100,\n",
    "    # means=[0.46, 0.56, 0.57],\n",
    "    # stds=[0.32, 0.28, 0.27],\n",
    "    tokenizer=\"gpt2\",\n",
    "    shape=[50]\n",
    ")\n",
    "\n",
    "req_tok = str(uuid.uuid4())\n",
    "\n",
    "queue = WorkerCommunication()\n",
    "queue.task_channel.put(req_tok, pars)"
   ]
  },
  {
   "cell_type": "code",
   "execution_count": 5,
   "id": "1a4fa412",
   "metadata": {},
   "outputs": [
    {
     "name": "stdout",
     "output_type": "stream",
     "text": [
      "~~~[Attack Params]~~~ model='transformer3' attack='TAG' modality='text' user_idx=0 number_of_clients=1 datasetStructure='text' csvPath=None datasetSize=None numClasses=None means=[0.46, 0.56, 0.57] stds=[0.32, 0.28, 0.27] batchSize=1 numRestarts=1 stepSize=0.1 maxIterations=100 ptFilePath=None zipFilePath=None budget=100 tokenizer='gpt2' shape=[50] callbackInterval=10\n",
      "limiting cuda process memory\n",
      "construct\n",
      "texting\n",
      "Investigating use case causal_lang_training with server type honest_but_curious.\n",
      "shape [50] [50]\n",
      "Investigating use case causal_lang_training with server type honest_but_curious.\n",
      "defaulted to wikitext\n",
      "{'case': {'data': {'db': {'name': None}, 'name': 'wikitext', 'modality': 'text', 'task': 'causal-lm', 'mlm_probability': 0.15, 'disable_mlm': False, 'path': '~/data', 'size': 1801350, 'shape': [50], 'tokenizer': 'gpt2', 'vocab_size': 50257, 'default_clients': 1, 'partition': 'given', 'examples_from_split': 'training', 'batch_size': 1, 'caching': False}, 'impl': {'shuffle': False, 'sample_with_replacement': False, 'dtype': 'float', 'non_blocking': True, 'sharing_strategy': 'file_descriptor', 'enable_gpu_acc': False, 'benchmark': True, 'deterministic': False, 'pin_memory': True, 'threads': 0, 'persistent_workers': False, 'mixed_precision': False, 'grad_scaling': True, 'JIT': None, 'validate_every_nth_step': 10, 'checkpoint': {'name': None, 'save_every_nth_step': 10}, 'enable_huggingface_offline_mode': True}, 'server': {'name': 'honest_but_curious', 'pretrained': True, 'model_state': 'default', 'provide_public_buffers': True, 'has_external_data': False, 'num_queries': 1}, 'user': {'user_type': 'local_gradient', 'user_idx': 0, 'num_data_points': 1, 'provide_buffers': False, 'provide_labels': False, 'provide_num_data_points': True, 'local_diff_privacy': {'gradient_noise': 0.0, 'input_noise': 0.0, 'distribution': 'laplacian', 'per_example_clipping': 0.0}}, 'name': 'causal_lang_training', 'model': 'transformer3', 'num_queries': 1}, 'attack': {'type': 'tag', 'attack_type': 'joint-optimization', 'label_strategy': 'None', 'text_strategy': 'run-embedding', 'token_recovery': 'from-embedding', 'objective': {'type': 'tag-euclidean', 'scale': 1.0, 'task_regularization': 0.0, 'tag_scale': 0.1, 'scale_scheme': 'linear'}, 'restarts': {'num_trials': 1, 'scoring': 'euclidean'}, 'init': 'randn-trunc', 'normalize_gradients': False, 'optim': {'optimizer': 'bert-adam', 'signed': None, 'step_size': 0.1, 'boxed': False, 'max_iterations': 100, 'step_size_decay': 'linear', 'langevin_noise': 0.0, 'warmup': 50, 'grad_clip': 1.0, 'callback': 10}, 'augmentations': None, 'differentiable_augmentations': False, 'regularization': None, 'impl': {'dtype': 'float', 'mixed_precision': False, 'JIT': None}}, 'base_dir': 'outputs', 'seed': None, 'name': 'default', 'dryrun': False, 'num_trials': 1, 'save_reconstruction': False}\n",
      "PyTorch version 1.10.1 available.\n",
      "TensorFlow version 2.4.1 available.\n",
      "Model architecture transformer3 loaded with 10,800,433 parameters and 0 buffers.\n",
      "Overall this is a data ratio of  216009:1 for target shape [1, 50] given that num_queries=1.\n",
      "User (of type UserSingleStep) with settings:\n",
      "    Number of data points: 1\n",
      "\n",
      "    Threat model:\n",
      "    User provides labels: False\n",
      "    User provides buffers: False\n",
      "    User provides number of data points: True\n",
      "\n",
      "    Data:\n",
      "    Dataset: wikitext\n",
      "    user: 0\n",
      "    \n",
      "        \n",
      "Server (of type HonestServer) with settings:\n",
      "    Threat model: Honest-but-curious\n",
      "    Number of planned queries: 1\n",
      "    Has external/public data: False\n",
      "\n",
      "    Model:\n",
      "        model specification: transformer3\n",
      "        model state: default\n",
      "        \n",
      "\n",
      "    Secrets: {}\n",
      "    \n",
      "Attacker (of type OptimizationJointAttacker) with settings:\n",
      "    Hyperparameter Template: tag\n",
      "\n",
      "    Objective: Tag loss with scale=1.0, weight scheme linear, L1 scale 0.1 and task reg=0.0\n",
      "    Regularizers: \n",
      "    Augmentations: \n",
      "\n",
      "    Optimization Setup:\n",
      "        optimizer: bert-adam\n",
      "        signed: None\n",
      "        step_size: 0.1\n",
      "        boxed: False\n",
      "        max_iterations: 100\n",
      "        step_size_decay: linear\n",
      "        langevin_noise: 0.0\n",
      "        warmup: 50\n",
      "        grad_clip: 1.0\n",
      "        callback: 10\n",
      "        \n"
     ]
    }
   ],
   "source": [
    "breaching = BreachingAdapter(queue.response_channel)\n",
    "request_token, data = queue.task_channel.get()\n",
    "cfg, setup, user, server, attacker, model, loss_fn = breaching.setup_attack(attack_params=data,\n",
    "                                                                                        cfg=None)"
   ]
  },
  {
   "cell_type": "code",
   "execution_count": 6,
   "id": "710c6ed5",
   "metadata": {},
   "outputs": [
    {
     "name": "stdout",
     "output_type": "stream",
     "text": [
      "Computing user update on user 0 in model mode: eval.\n"
     ]
    },
    {
     "name": "stdout",
     "output_type": "stream",
     "text": [
      "reconstructing attack\n",
      "| It: 1 | Rec. loss: 41.3410 |  Task loss: 10.9866 | T: 0.09s |  Label Entropy: 0.9998.\n",
      "| It: 11 | Rec. loss: 40.5297 |  Task loss: 10.9878 | T: 8.70s |  Label Entropy: 0.9995.\n",
      "| It: 21 | Rec. loss: 37.8810 |  Task loss: 10.9868 | T: 0.32s |  Label Entropy: 0.9957.\n",
      "| It: 31 | Rec. loss: 34.5534 |  Task loss: 10.9743 | T: 0.32s |  Label Entropy: 0.9836.\n",
      "| It: 41 | Rec. loss: 32.0716 |  Task loss: 10.9733 | T: 0.32s |  Label Entropy: 0.9627.\n",
      "| It: 51 | Rec. loss: 29.8932 |  Task loss: 10.9794 | T: 0.32s |  Label Entropy: 0.9315.\n",
      "| It: 61 | Rec. loss: 27.6804 |  Task loss: 10.9790 | T: 0.33s |  Label Entropy: 0.8835.\n",
      "| It: 71 | Rec. loss: 25.7121 |  Task loss: 10.9827 | T: 0.32s |  Label Entropy: 0.8182.\n",
      "| It: 81 | Rec. loss: 23.9490 |  Task loss: 10.9872 | T: 0.32s |  Label Entropy: 0.7419.\n",
      "| It: 91 | Rec. loss: 22.4753 |  Task loss: 10.9882 | T: 0.32s |  Label Entropy: 0.6665.\n",
      "| It: 100 | Rec. loss: 21.3319 |  Task loss: 10.9909 | T: 0.29s |  Label Entropy: 0.6059.\n",
      "Optimal candidate solution with rec. loss 13.4249 selected.\n",
      " Senjō no Valkyria 3 : <unk> Chronicles ( Japanese : 戦場のヴァルキュリア3, lit. Valkyria of the Battlefield 3 ), commonly referred to as Valkyria Chronicles\n",
      "ocious Paragu abstinenceatech Drag heightened metalbyssucer395 Chevyrs species spoiled gig approximate helpersurdy Refresh whims bru Penguin Ball swipe creditor downside teenagerなlierOregon callsongevityToken IEEE kissedulet87 prem Element furn aromatic labs Ctrl limits Missions Pharaoh MessagesAIN Cricket454\n",
      "Starting evaluations for attack effectiveness report...\n"
     ]
    },
    {
     "name": "stderr",
     "output_type": "stream",
     "text": [
      "/home/sumith/Documents/segp/ml-privacy-framework/backend/breaching/breaching/analysis/analysis.py:132: FutureWarning: load_metric is deprecated and will be removed in the next major version of datasets. Use 'evaluate.load' instead, from the new library 🤗 Evaluate: https://huggingface.co/docs/evaluate\n",
      "  metrics = {name: datasets.load_metric(name, cache_dir=cfg_case.data.path) for name in candidate_metrics}\n",
      "/home/sumith/miniforge3/envs/breaching/lib/python3.9/site-packages/datasets/load.py:752: FutureWarning: The repository for accuracy contains custom code which must be executed to correctly load the metric. You can inspect the repository content at https://raw.githubusercontent.com/huggingface/datasets/2.16.1/metrics/accuracy/accuracy.py\n",
      "You can avoid this message in future by passing the argument `trust_remote_code=True`.\n",
      "Passing `trust_remote_code=True` will be mandatory to load this metric from the next major release of `datasets`.\n",
      "  warnings.warn(\n",
      "/home/sumith/miniforge3/envs/breaching/lib/python3.9/site-packages/datasets/load.py:752: FutureWarning: The repository for bleu contains custom code which must be executed to correctly load the metric. You can inspect the repository content at https://raw.githubusercontent.com/huggingface/datasets/2.16.1/metrics/bleu/bleu.py\n",
      "You can avoid this message in future by passing the argument `trust_remote_code=True`.\n",
      "Passing `trust_remote_code=True` will be mandatory to load this metric from the next major release of `datasets`.\n",
      "  warnings.warn(\n",
      "/home/sumith/miniforge3/envs/breaching/lib/python3.9/site-packages/datasets/load.py:752: FutureWarning: The repository for rouge contains custom code which must be executed to correctly load the metric. You can inspect the repository content at https://raw.githubusercontent.com/huggingface/datasets/2.16.1/metrics/rouge/rouge.py\n",
      "You can avoid this message in future by passing the argument `trust_remote_code=True`.\n",
      "Passing `trust_remote_code=True` will be mandatory to load this metric from the next major release of `datasets`.\n",
      "  warnings.warn(\n",
      "/home/sumith/miniforge3/envs/breaching/lib/python3.9/site-packages/datasets/load.py:752: FutureWarning: The repository for google_bleu contains custom code which must be executed to correctly load the metric. You can inspect the repository content at https://raw.githubusercontent.com/huggingface/datasets/2.16.1/metrics/google_bleu/google_bleu.py\n",
      "You can avoid this message in future by passing the argument `trust_remote_code=True`.\n",
      "Passing `trust_remote_code=True` will be mandatory to load this metric from the next major release of `datasets`.\n",
      "  warnings.warn(\n",
      "/home/sumith/miniforge3/envs/breaching/lib/python3.9/site-packages/datasets/load.py:752: FutureWarning: The repository for sacrebleu contains custom code which must be executed to correctly load the metric. You can inspect the repository content at https://raw.githubusercontent.com/huggingface/datasets/2.16.1/metrics/sacrebleu/sacrebleu.py\n",
      "You can avoid this message in future by passing the argument `trust_remote_code=True`.\n",
      "Passing `trust_remote_code=True` will be mandatory to load this metric from the next major release of `datasets`.\n",
      "  warnings.warn(\n"
     ]
    },
    {
     "name": "stdout",
     "output_type": "stream",
     "text": [
      "Using default tokenizer.\n",
      "METRICS: | Accuracy: 0.0000 | S-BLEU: 0.00 | FMSE: 1.9738e-03 | \n",
      " G-BLEU: 0.00 | ROUGE1: 0.00| ROUGE2: 0.00 | ROUGE-L: 0.00| Token Acc T:0.00%/A:0.00% | Label Acc: 2.00%\n",
      "{'order': tensor([0], device='cuda:0'), 'accuracy': 0.0, 'intra-sentence_accuracy': [0.0], 'max-sentence_accuracy': 0.0, 'bleu': 0.0, 'google_bleu': 0.0, 'sacrebleu': 0.0, 'rouge1': 0.0, 'rouge2': 0.0, 'rougeL': 0.0, 'token_acc': 0.0, 'intra-sentence_token_acc': [0.0], 'token_avg_accuracy': 0.0, 'feat_mse': 0.001973798731341958, 'parameters': 10800433, 'label_acc': 0.020000040531158447}\n"
     ]
    },
    {
     "data": {
      "text/plain": [
       "{'order': tensor([0], device='cuda:0'),\n",
       " 'accuracy': 0.0,\n",
       " 'intra-sentence_accuracy': [0.0],\n",
       " 'max-sentence_accuracy': 0.0,\n",
       " 'bleu': 0.0,\n",
       " 'google_bleu': 0.0,\n",
       " 'sacrebleu': 0.0,\n",
       " 'rouge1': 0.0,\n",
       " 'rouge2': 0.0,\n",
       " 'rougeL': 0.0,\n",
       " 'token_acc': 0.0,\n",
       " 'intra-sentence_token_acc': [0.0],\n",
       " 'token_avg_accuracy': 0.0,\n",
       " 'feat_mse': 0.001973798731341958,\n",
       " 'parameters': 10800433,\n",
       " 'label_acc': 0.020000040531158447}"
      ]
     },
     "execution_count": 6,
     "metadata": {},
     "output_type": "execute_result"
    }
   ],
   "source": [
    "# Get response channel and request token to pass into breaching\n",
    "response = request_token, queue.response_channel\n",
    "r_user_data, t_user_data, server_payload = breaching.perform_attack(cfg, setup, user, server, attacker,\n",
    "                                                                    model, loss_fn, request_token=request_token)\n",
    "breaching.get_metrics(r_user_data, t_user_data, server_payload, server, cfg, setup, response)"
   ]
  },
  {
   "cell_type": "code",
   "execution_count": 7,
   "id": "4fe5f2a2",
   "metadata": {},
   "outputs": [
    {
     "name": "stdout",
     "output_type": "stream",
     "text": [
      " Senjō no Valkyria 3 : <unk> Chronicles ( Japanese : 戦場のヴァルキュリア3, lit. Valkyria of the Battlefield 3 ), commonly referred to as Valkyria Chronicles\n"
     ]
    }
   ],
   "source": [
    "user.print(t_user_data)"
   ]
  },
  {
   "cell_type": "code",
   "execution_count": 8,
   "id": "9e86ed54",
   "metadata": {},
   "outputs": [
    {
     "name": "stdout",
     "output_type": "stream",
     "text": [
      "ocious Paragu abstinenceatech Drag heightened metalbyssucer395 Chevyrs species spoiled gig approximate helpersurdy Refresh whims bru Penguin Ball swipe creditor downside teenagerなlierOregon callsongevityToken IEEE kissedulet87 prem Element furn aromatic labs Ctrl limits Missions Pharaoh MessagesAIN Cricket454\n"
     ]
    }
   ],
   "source": [
    "user.print(r_user_data)"
   ]
  },
  {
   "cell_type": "code",
   "execution_count": 9,
   "id": "1b77111c",
   "metadata": {},
   "outputs": [
    {
     "data": {
      "text/plain": [
       "Attacker (of type OptimizationJointAttacker) with settings:\n",
       "    Hyperparameter Template: tag\n",
       "\n",
       "    Objective: Tag loss with scale=1.0, weight scheme linear, L1 scale 0.1 and task reg=0.0\n",
       "    Regularizers: \n",
       "    Augmentations: \n",
       "\n",
       "    Optimization Setup:\n",
       "        optimizer: bert-adam\n",
       "        signed: None\n",
       "        step_size: 0.1\n",
       "        boxed: False\n",
       "        max_iterations: 100\n",
       "        step_size_decay: linear\n",
       "        langevin_noise: 0.0\n",
       "        warmup: 50\n",
       "        grad_clip: 1.0\n",
       "        callback: 10\n",
       "        "
      ]
     },
     "execution_count": 9,
     "metadata": {},
     "output_type": "execute_result"
    }
   ],
   "source": [
    "attacker"
   ]
  },
  {
   "cell_type": "code",
   "execution_count": null,
   "id": "e55c3939",
   "metadata": {},
   "outputs": [],
   "source": []
  }
 ],
 "metadata": {
  "kernelspec": {
   "display_name": "Python 3 (ipykernel)",
   "language": "python",
   "name": "python3"
  },
  "language_info": {
   "codemirror_mode": {
    "name": "ipython",
    "version": 3
   },
   "file_extension": ".py",
   "mimetype": "text/x-python",
   "name": "python",
   "nbconvert_exporter": "python",
   "pygments_lexer": "ipython3",
   "version": "3.9.18"
  }
 },
 "nbformat": 4,
 "nbformat_minor": 5
}
